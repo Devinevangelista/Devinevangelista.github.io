{
 "cells": [
  {
   "cell_type": "markdown",
   "id": "40ec23ef",
   "metadata": {},
   "source": [
    "Before you turn this in, make sure everything runs as expected. First, **restart the kernel** (in the menubar, select Kernel $\\rightarrow$ Restart) and then **run all cells** (in the menubar, select Cell $\\rightarrow$ Run All).\n",
    "\n",
    "Make sure you fill in any place that says `YOUR CODE HERE` or \"YOUR ANSWER HERE\", as well as your name and collaborators below:"
   ]
  },
  {
   "cell_type": "code",
   "execution_count": null,
   "id": "adf2e138",
   "metadata": {},
   "outputs": [],
   "source": [
    "NAME = \"\"\n",
    "COLLABORATORS = \"\""
   ]
  },
  {
   "cell_type": "markdown",
   "id": "caf83744",
   "metadata": {},
   "source": [
    "---"
   ]
  },
  {
   "cell_type": "markdown",
   "id": "9b998667",
   "metadata": {},
   "source": [
    "# Introduction to Linear Regression\n",
    "\n",
    "Linear Regression is a fundamental method in data science for modeling the relationship between one (or more) explanatory variables (features) and a scalar response (target). In its simplest form (simple linear regression), it assumes:\n",
    "\n",
    "$$y = \\beta_0 + \\beta_1 x + \\varepsilon$$\n",
    "\n",
    "where $x$ is the independent variable, $y$ is the dependent variable (target), $\\beta_0$ is the intercept, $\\beta_1$ is the slope, and $\\varepsilon$ is the error term.\n",
    "\n",
    "In practice, we often use libraries (e.g., **scikit-learn** in Python) to fit linear models, but it's valuable to understand how to compute the slope and intercept coefficients manually using basic statistics. In the following notebook:\n",
    "\n",
    "1. We'll demonstrate how to generate some synthetic linear data.\n",
    "2. Provide exercises to implement linear regression calculations and evaluate the model.\n",
    "3. Show how to fit a linear regression model using **scikit-learn**.\n",
    "4. Demonstrate how to perform **bootstrapping** to estimate confidence intervals for the slope and intercept."
   ]
  },
  {
   "cell_type": "code",
   "execution_count": 2,
   "id": "a81d909b",
   "metadata": {},
   "outputs": [
    {
     "data": {
      "image/png": "[encoded data removed]",
      "text/plain": [
       "<Figure size 640x480 with 1 Axes>"
      ]
     },
     "metadata": {},
     "output_type": "display_data"
    }
   ],
   "source": [
    "import numpy as np\n",
    "import matplotlib.pyplot as plt\n",
    "%matplotlib inline\n",
    "\n",
    "# Generate synthetic linear data for demonstration.\n",
    "# y = 2.5 * x + 5 + some noise\n",
    "np.random.seed(42)\n",
    "X_demo = np.linspace(0, 10, 50)\n",
    "noise = np.random.normal(0, 2, len(X_demo))\n",
    "Y_demo = 2.5 * X_demo + 5 + noise\n",
    "\n",
    "plt.scatter(X_demo, Y_demo, label='Data points')\n",
    "plt.title('Synthetic Linear Data')\n",
    "plt.xlabel('X')\n",
    "plt.ylabel('Y')\n",
    "plt.legend()\n",
    "plt.show()"
   ]
  },
  {
   "cell_type": "markdown",
   "id": "721ace20",
   "metadata": {},
   "source": [
    "## Exercise 1: Calculate Slope and Intercept Manually\n",
    "\n",
    "For a given dataset $(X, Y)$, the slope ($m$) and intercept ($b$) for simple linear regression can be computed using:\n",
    "\n",
    "$$m = \\frac{\\mathrm{Cov}(X, Y)}{\\mathrm{Var}(X)}, \\quad b = \\bar{Y} - m\\,\\bar{X}$$\n",
    "\n",
    "where\n",
    "- $\\bar{X}$ is the mean of $X$\n",
    "- $\\bar{Y}$ is the mean of $Y$\n",
    "- $\\mathrm{Cov}(X, Y) = \\frac{1}{n}\\sum_{i=1}^n (X_i - \\bar{X})(Y_i - \\bar{Y})$\n",
    "- $\\mathrm{Var}(X) = \\frac{1}{n}\\sum_{i=1}^n (X_i - \\bar{X})^2$\n",
    "\n",
    "**Task**: Implement the function `manual_linear_regression(X, Y)` that returns `(m, b)`, where\n",
    "- `m` is the slope\n",
    "- `b` is the intercept\n",
    "\n",
    "Use the following code cell to implement your answer."
   ]
  },
  {
   "cell_type": "code",
   "execution_count": 3,
   "id": "f6106d0d",
   "metadata": {
    "deletable": false,
    "nbgrader": {
     "cell_type": "code",
     "checksum": "c34a47aba353a3dc5c51a2bc9cd8744e",
     "grade": false,
     "grade_id": "exercise1_solution_cell",
     "locked": false,
     "schema_version": 3,
     "solution": true,
     "task": false
    }
   },
   "outputs": [],
   "source": [
    "# YOUR CODE HERE\n",
    "def manual_linear_regression(X, Y):\n",
    "\n",
    "    X = np.array(X)\n",
    "    Y = np.array(Y)\n",
    "\n",
    "    #means\n",
    "    Xmean = np.mean(X)\n",
    "    Ymean = np.mean(Y)\n",
    "\n",
    "\n",
    "    #not sure if this accounts for 1/n \n",
    "    numerator = np.sum((X - Xmean) * (Y - Ymean))\n",
    "\n",
    "    denominator = np.sum(X - Xmean ** 2)\n",
    "\n",
    "    m = numerator/denominator\n",
    "    b = Ymean - m * Xmean\n",
    "\n",
    "    return m, b"
   ]
  },
  {
   "cell_type": "markdown",
   "id": "af7a0232",
   "metadata": {},
   "source": []
  },
  {
   "cell_type": "code",
   "execution_count": 4,
   "id": "44b64a8f",
   "metadata": {
    "deletable": false,
    "editable": false,
    "nbgrader": {
     "cell_type": "code",
     "checksum": "88a3c1b9affec7ea3713b9d90c7d5c47",
     "grade": true,
     "grade_id": "exercise1_hidden_tests",
     "locked": true,
     "points": 10,
     "schema_version": 3,
     "solution": false,
     "task": false
    }
   },
   "outputs": [
    {
     "name": "stdout",
     "output_type": "stream",
     "text": [
      "Slope (m): -0.5\n",
      "Intercept (b): 6.3\n",
      "Predicted Y for X=6: 3.3\n"
     ]
    }
   ],
   "source": []
  },
  {
   "cell_type": "markdown",
   "id": "9a2d22e5",
   "metadata": {},
   "source": [
    "## Exercise 2: Using scikit-learn's LinearRegression\n",
    "\n",
    "In this exercise, we'll use **scikit-learn**'s `LinearRegression` to fit the same kind of model we discussed above.\n",
    "\n",
    "**Task**: Write a function `sklearn_linear_regression(X, Y)` that:\n",
    "\n",
    "1. Reshapes $X$ appropriately if needed (since scikit-learn expects a 2D array for features).\n",
    "2. Creates and fits a `LinearRegression` model using $X$ and $Y$.\n",
    "3. Returns the slope (`model.coef_[0]`) and intercept (`model.intercept_`)."
   ]
  },
  {
   "cell_type": "code",
   "execution_count": null,
   "id": "661f7a3e",
   "metadata": {
    "deletable": false,
    "nbgrader": {
     "cell_type": "code",
     "checksum": "d728f1265c8f5511e681875cf4bac9ec",
     "grade": false,
     "grade_id": "exercise2_solution_cell",
     "locked": false,
     "schema_version": 3,
     "solution": true,
     "task": false
    }
   },
   "outputs": [],
   "source": [
    "# YOUR CODE HERE\n",
    "raise NotImplementedError()"
   ]
  },
  {
   "cell_type": "code",
   "execution_count": null,
   "id": "e97ea2a8",
   "metadata": {
    "deletable": false,
    "editable": false,
    "nbgrader": {
     "cell_type": "code",
     "checksum": "deb8621633cc4408f53331499da0c164",
     "grade": true,
     "grade_id": "exercise2_hidden_tests",
     "locked": true,
     "points": 9,
     "schema_version": 3,
     "solution": false,
     "task": false
    }
   },
   "outputs": [],
   "source": []
  },
  {
   "cell_type": "markdown",
   "id": "ccb320bb",
   "metadata": {},
   "source": [
    "## Exercise 3: Mean Squared Error (MSE)\n",
    "\n",
    "Once you have a regression line, you often want to measure how well it fits the data. The **mean squared error (MSE)** is defined by:\n",
    "\n",
    "$$\\text{MSE} = \\frac{1}{n}\\sum_{i=1}^n (\\hat{y}_i - y_i)^2$$\n",
    "\n",
    "where $\\hat{y}_i$ is the predicted value for the $i$-th data point and $y_i$ is the true value.\n",
    "\n",
    "Write a function `compute_mse(X, Y, m, b)` that:\n",
    "1. Takes arrays of data points `X, Y` and a slope-intercept pair `m, b`.\n",
    "2. Predicts $\\hat{y}_i = m X_i + b$.\n",
    "3. Returns the MSE."
   ]
  },
  {
   "cell_type": "code",
   "execution_count": null,
   "id": "064b77e2",
   "metadata": {
    "deletable": false,
    "nbgrader": {
     "cell_type": "code",
     "checksum": "56af60109233342a2ee78b56d31d3ef7",
     "grade": false,
     "grade_id": "exercise3_solution_cell",
     "locked": false,
     "schema_version": 3,
     "solution": true,
     "task": false
    }
   },
   "outputs": [],
   "source": [
    "# YOUR CODE HERE\n",
    "raise NotImplementedError()"
   ]
  },
  {
   "cell_type": "code",
   "execution_count": null,
   "id": "f61c8e6f",
   "metadata": {
    "deletable": false,
    "editable": false,
    "nbgrader": {
     "cell_type": "code",
     "checksum": "313361994d4e237112e457920fb8529a",
     "grade": true,
     "grade_id": "exercise3_hidden_tests",
     "locked": true,
     "points": 10,
     "schema_version": 3,
     "solution": false,
     "task": false
    }
   },
   "outputs": [],
   "source": []
  },
  {
   "cell_type": "markdown",
   "id": "e2d7f83c",
   "metadata": {},
   "source": [
    "## Exercise 4: Bootstrapping for Linear Regression\n",
    "\n",
    "Bootstrapping is a **resampling** technique that allows us to estimate the variability of our model parameters (e.g., slope and intercept) without relying heavily on strict theoretical assumptions. The idea is:\n",
    "\n",
    "1. **Sample with replacement** from our dataset $(X, Y)$ to create a \"bootstrapped\" dataset of the same size.\n",
    "2. **Fit** a linear regression model (manually or with scikit-learn) to each resampled dataset.\n",
    "3. **Record** the parameters (slope, intercept) for each fit.\n",
    "4. **Repeat** many times (e.g., 1000 bootstrap samples).\n",
    "5. **Analyze** the distribution of your fitted slopes and intercepts (e.g., compute confidence intervals).\n",
    "\n",
    "**Task**: Implement a function `bootstrap_regression(X, Y, n_boot=1000)` that:\n",
    "1. Takes arrays `X, Y` and the number of bootstrap iterations `n_boot` (default 1000).\n",
    "2. For each iteration:\n",
    "   - Creates a random sample (with replacement) of the same length as `X` and `Y`.\n",
    "   - Fits a linear regression (you can use your `manual_linear_regression` function **or** scikit-learn).\n",
    "   - Stores the slope and intercept.\n",
    "3. Returns two arrays/lists: `(slopes, intercepts)` each of length `n_boot`.\n",
    "\n",
    "We'll use this information to compute approximate confidence intervals for slope and intercept. The hidden tests will run checks on your function to verify correctness."
   ]
  },
  {
   "cell_type": "code",
   "execution_count": null,
   "id": "fd400f5f",
   "metadata": {
    "deletable": false,
    "nbgrader": {
     "cell_type": "code",
     "checksum": "86125d4447c83a4b91a8fab4b2c45193",
     "grade": false,
     "grade_id": "exercise4_solution_cell",
     "locked": false,
     "schema_version": 3,
     "solution": true,
     "task": false
    }
   },
   "outputs": [],
   "source": [
    "# YOUR CODE HERE\n",
    "raise NotImplementedError()"
   ]
  },
  {
   "cell_type": "code",
   "execution_count": null,
   "id": "c941df24",
   "metadata": {
    "deletable": false,
    "editable": false,
    "nbgrader": {
     "cell_type": "code",
     "checksum": "0997f0bc293ee2fc322c46e10266a1fc",
     "grade": true,
     "grade_id": "exercise4_hidden_tests",
     "locked": true,
     "points": 10,
     "schema_version": 3,
     "solution": false,
     "task": false
    }
   },
   "outputs": [],
   "source": []
  },
  {
   "cell_type": "markdown",
   "id": "cfcdb013",
   "metadata": {},
   "source": [
    "### Part 2: Visualizing the Bootstrap Distributions\n",
    "\n",
    "In this section, **visualize** the distribution of slopes and intercepts produced by the bootstrapping procedure. We'll use the synthetic dataset (`X_demo`, `Y_demo`) and the `bootstrap_regression` function you defined above:\n",
    "\n",
    "1. Draw bootstrap samples and compute the slope and intercept for each.\n",
    "2. Display histograms for the slopes and intercepts.\n",
    "3. Show the approximate means and a possible confidence interval."
   ]
  },
  {
   "cell_type": "code",
   "execution_count": null,
   "id": "ead889cd",
   "metadata": {},
   "outputs": [],
   "source": [
    "# Part 2 - Visualization (demonstration)\n",
    "n_boot = 1000\n",
    "slopes_demo, intercepts_demo = bootstrap_regression(X_demo, Y_demo, n_boot=n_boot)\n",
    "\n",
    "mean_slope = np.mean(slopes_demo)\n",
    "mean_intercept = np.mean(intercepts_demo)\n",
    "\n",
    "# Compute 95% confidence interval (2.5th and 97.5th percentiles)\n",
    "ci_slope = np.percentile(slopes_demo, [2.5, 97.5])\n",
    "ci_intercept = np.percentile(intercepts_demo, [2.5, 97.5])\n",
    "\n",
    "fig, axes = plt.subplots(1, 2, figsize=(12, 4))\n",
    "axes[0].hist(slopes_demo, bins=30, alpha=0.7, color='C0')\n",
    "axes[0].axvline(mean_slope, color='red', linestyle='--', label=f'Mean = {mean_slope:.2f}')\n",
    "axes[0].axvspan(ci_slope[0], ci_slope[1], color='red', alpha=0.2,\n",
    "                label=f'95% CI = [{ci_slope[0]:.2f}, {ci_slope[1]:.2f}]')\n",
    "axes[0].set_title('Bootstrap Slopes')\n",
    "axes[0].set_xlabel('Slope')\n",
    "axes[0].set_ylabel('Frequency')\n",
    "axes[0].legend()\n",
    "\n",
    "axes[1].hist(intercepts_demo, bins=30, alpha=0.7, color='C1')\n",
    "axes[1].axvline(mean_intercept, color='red', linestyle='--', label=f'Mean = {mean_intercept:.2f}')\n",
    "axes[1].axvspan(ci_intercept[0], ci_intercept[1], color='red', alpha=0.2,\n",
    "                label=f'95% CI = [{ci_intercept[0]:.2f}, {ci_intercept[1]:.2f}]')\n",
    "axes[1].set_title('Bootstrap Intercepts')\n",
    "axes[1].set_xlabel('Intercept')\n",
    "axes[1].set_ylabel('Frequency')\n",
    "axes[1].legend()\n",
    "\n",
    "plt.tight_layout()\n",
    "plt.show()\n",
    "\n",
    "print(\"Mean slope:\", round(mean_slope, 3), \"| 95% CI:\", ci_slope)\n",
    "print(\"Mean intercept:\", round(mean_intercept, 3), \"| 95% CI:\", ci_intercept)\n"
   ]
  }
 ],
 "metadata": {
  "kernelspec": {
   "display_name": "base",
   "language": "python",
   "name": "python3"
  },
  "language_info": {
   "codemirror_mode": {
    "name": "ipython",
    "version": 3
   },
   "file_extension": ".py",
   "mimetype": "text/x-python",
   "name": "python",
   "nbconvert_exporter": "python",
   "pygments_lexer": "ipython3",
   "version": "3.12.7"
  }
 },
 "nbformat": 4,
 "nbformat_minor": 5
}
